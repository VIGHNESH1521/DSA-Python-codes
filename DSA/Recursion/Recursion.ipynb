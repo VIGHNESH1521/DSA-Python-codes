{
 "cells": [
  {
   "cell_type": "markdown",
   "id": "15e0313c",
   "metadata": {
    "pycharm": {
     "name": "#%% md\n"
    }
   },
   "source": [
    "# RECURSION"
   ]
  },
  {
   "cell_type": "markdown",
   "id": "c2084dd1",
   "metadata": {
    "pycharm": {
     "name": "#%% md\n"
    }
   },
   "source": [
    "The term Recursion can be defined as the process of defining something in terms of itself. \n",
    "In simple words, it is a process in which a function calls itself directly or indirectly."
   ]
  },
  {
   "cell_type": "markdown",
   "id": "42306fba",
   "metadata": {
    "pycharm": {
     "name": "#%% md\n"
    }
   },
   "source": [
    "Advantages of using recursion\n",
    "\n",
    "1.    A complicated function can be split down into smaller sub-problems utilizing recursion.\n",
    "2.   Sequence creation is simpler through recursion than utilizing any nested iteration.\n",
    "3.   Recursive functions render the code look simple and effective.\n",
    "\n",
    "Disadvantages of using recursion\n",
    "\n",
    "1.    A lot of memory and time is taken through recursive calls which makes it expensive for use.\n",
    "2.   Recursive functions are challenging to debug.\n",
    "3.    The reasoning behind recursion can sometimes be tough to think through."
   ]
  },
  {
   "cell_type": "code",
   "execution_count": 8,
   "id": "2875ebaa",
   "metadata": {
    "pycharm": {
     "name": "#%%\n"
    }
   },
   "outputs": [
    {
     "name": "stdout",
     "output_type": "stream",
     "text": [
      "Fibonacci series:\n",
      "0\n",
      "1\n",
      "1\n",
      "2\n",
      "3\n",
      "5\n",
      "8\n",
      "13\n",
      "21\n",
      "34\n"
     ]
    }
   ],
   "source": [
    "def recursive_fibonacci(n):\n",
    "    if (n <= 1):\n",
    "        return n\n",
    "    else :\n",
    "        return(recursive_fibonacci(n-1) + recursive_fibonacci(n-2))\n",
    "\n",
    "n_terms = 10\n",
    "\n",
    "\n",
    "if n_terms <= 0:\n",
    "    print(\"Invalid input ! Please input a positive value\")\n",
    "else:\n",
    "    print(\"Fibonacci series:\")\n",
    "for i in range(n_terms):\n",
    "    print(recursive_fibonacci(i))\n"
   ]
  },
  {
   "cell_type": "markdown",
   "id": "44260d1b",
   "metadata": {
    "pycharm": {
     "name": "#%% md\n"
    }
   },
   "source": [
    "# ASSERT Keyword in Python\n"
   ]
  },
  {
   "cell_type": "markdown",
   "id": "37ea0e19",
   "metadata": {
    "pycharm": {
     "name": "#%% md\n"
    }
   },
   "source": [
    "The assert keyword is used when debugging code.\n",
    "\n",
    "The assert keyword lets us test if a condition in our code returns True, if not, the program will raise an AssertionError.\n",
    "\n",
    "We can write a message to be written if the code returns False"
   ]
  },
  {
   "cell_type": "code",
   "execution_count": 11,
   "id": "14b70804",
   "metadata": {
    "pycharm": {
     "name": "#%%\n"
    }
   },
   "outputs": [
    {
     "ename": "AssertionError",
     "evalue": "x should be 'hello'",
     "output_type": "error",
     "traceback": [
      "\u001B[1;31m---------------------------------------------------------------------------\u001B[0m",
      "\u001B[1;31mAssertionError\u001B[0m                            Traceback (most recent call last)",
      "\u001B[1;32m<ipython-input-11-a13cd6e9aadd>\u001B[0m in \u001B[0;36m<module>\u001B[1;34m\u001B[0m\n\u001B[0;32m      2\u001B[0m \u001B[1;33m\u001B[0m\u001B[0m\n\u001B[0;32m      3\u001B[0m \u001B[1;31m#if condition returns False, AssertionError is raised:\u001B[0m\u001B[1;33m\u001B[0m\u001B[1;33m\u001B[0m\u001B[1;33m\u001B[0m\u001B[0m\n\u001B[1;32m----> 4\u001B[1;33m \u001B[1;32massert\u001B[0m \u001B[0mx\u001B[0m \u001B[1;33m==\u001B[0m \u001B[1;34m\"goodbye\"\u001B[0m\u001B[1;33m,\u001B[0m \u001B[1;34m\"x should be 'hello'\"\u001B[0m\u001B[1;33m\u001B[0m\u001B[1;33m\u001B[0m\u001B[0m\n\u001B[0m",
      "\u001B[1;31mAssertionError\u001B[0m: x should be 'hello'"
     ]
    }
   ],
   "source": [
    "x = \"hello\"\n",
    "\n",
    "#if condition returns False, AssertionError is raised:\n",
    "assert x == \"goodbye\", \"x should be 'hello'\""
   ]
  },
  {
   "cell_type": "code",
   "execution_count": 10,
   "id": "8684c686",
   "metadata": {
    "pycharm": {
     "name": "#%%\n"
    }
   },
   "outputs": [
    {
     "name": "stdout",
     "output_type": "stream",
     "text": [
      "Factorial of number 6 = 720\n"
     ]
    }
   ],
   "source": [
    "\n",
    "# Program to print factorial of a number \n",
    "# recursively.\n",
    "\n",
    "def recursive_factorial(n):\n",
    "    assert n>= 0 and int(n) == n\n",
    "    if n == 1:\n",
    "        return n\n",
    "    else:\n",
    "        return n * recursive_factorial(n-1)\n",
    "\n",
    "\n",
    "num = 6\n",
    "\n",
    "if num < 0:\n",
    "    print(\"Invalid input ! Please enter a positive number.\")\n",
    "elif num == 0:\n",
    "    print(\"Factorial of number 0 is 1\")\n",
    "else:\n",
    "    print(\"Factorial of number\", num, \"=\", recursive_factorial(num))\n"
   ]
  },
  {
   "cell_type": "code",
   "execution_count": null,
   "id": "e8bfc00e",
   "metadata": {
    "pycharm": {
     "name": "#%%\n"
    }
   },
   "outputs": [],
   "source": []
  }
 ],
 "metadata": {
  "kernelspec": {
   "display_name": "Python 3",
   "language": "python",
   "name": "python3"
  },
  "language_info": {
   "codemirror_mode": {
    "name": "ipython",
    "version": 3
   },
   "file_extension": ".py",
   "mimetype": "text/x-python",
   "name": "python",
   "nbconvert_exporter": "python",
   "pygments_lexer": "ipython3",
   "version": "3.7.6"
  }
 },
 "nbformat": 4,
 "nbformat_minor": 5
}