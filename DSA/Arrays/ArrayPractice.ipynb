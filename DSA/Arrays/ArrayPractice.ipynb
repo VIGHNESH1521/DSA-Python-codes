{
 "cells": [
  {
   "cell_type": "code",
   "execution_count": 1,
   "id": "b9ba4946",
   "metadata": {},
   "outputs": [],
   "source": [
    "from array import *"
   ]
  },
  {
   "cell_type": "code",
   "execution_count": 2,
   "id": "15abb91c",
   "metadata": {},
   "outputs": [
    {
     "name": "stdout",
     "output_type": "stream",
     "text": [
      "array('i', [1, 2, 3, 4, 5])\n"
     ]
    }
   ],
   "source": [
    "arr = array('i',[1, 2, 3, 4, 5])\n",
    "print(arr)"
   ]
  },
  {
   "cell_type": "code",
   "execution_count": 5,
   "id": "c5cb3dbf",
   "metadata": {},
   "outputs": [
    {
     "name": "stdout",
     "output_type": "stream",
     "text": [
      "1\n",
      "2\n",
      "3\n",
      "4\n",
      "5\n"
     ]
    }
   ],
   "source": [
    "for _ in arr:\n",
    "    print(_)"
   ]
  },
  {
   "cell_type": "code",
   "execution_count": 6,
   "id": "30e2e1cc",
   "metadata": {},
   "outputs": [
    {
     "name": "stdout",
     "output_type": "stream",
     "text": [
      "3\n"
     ]
    }
   ],
   "source": [
    "print(arr[2])"
   ]
  },
  {
   "cell_type": "code",
   "execution_count": 7,
   "id": "73dd4439",
   "metadata": {},
   "outputs": [
    {
     "name": "stdout",
     "output_type": "stream",
     "text": [
      "array('i', [1, 2, 3, 4, 5, 6])\n"
     ]
    }
   ],
   "source": [
    "arr.append(6)\n",
    "print(arr)"
   ]
  },
  {
   "cell_type": "code",
   "execution_count": 15,
   "id": "15f4fbc2",
   "metadata": {},
   "outputs": [
    {
     "name": "stdout",
     "output_type": "stream",
     "text": [
      "array('i', [1, 0, 0, 1, 2, 3, 7, 4, 6, 6, 6, 5, 6])\n"
     ]
    }
   ],
   "source": [
    "arr.insert(6,7)\n",
    "print(arr)"
   ]
  },
  {
   "cell_type": "code",
   "execution_count": 16,
   "id": "fdcc032f",
   "metadata": {},
   "outputs": [
    {
     "name": "stdout",
     "output_type": "stream",
     "text": [
      "array('i', [8, 9, 10, 1, 0, 0, 1, 2, 3, 7, 4, 6, 6, 6, 5, 6])\n"
     ]
    }
   ],
   "source": [
    "arr1 = array('i', [8,9,10])\n",
    "arr1.extend(arr)\n",
    "print(arr1)"
   ]
  },
  {
   "cell_type": "code",
   "execution_count": 17,
   "id": "183f7503",
   "metadata": {},
   "outputs": [
    {
     "name": "stdout",
     "output_type": "stream",
     "text": [
      "array('i', [8, 9, 10, 1, 0, 0, 1, 2, 3, 7, 4, 6, 6, 6, 5, 6, 11, 12, 13])\n"
     ]
    }
   ],
   "source": [
    "temp_list = [11, 12, 13]\n",
    "arr1.fromlist(temp_list)\n",
    "print(arr1)"
   ]
  },
  {
   "cell_type": "code",
   "execution_count": 18,
   "id": "8839ab17",
   "metadata": {},
   "outputs": [
    {
     "name": "stdout",
     "output_type": "stream",
     "text": [
      "array('i', [8, 9, 10, 1, 0, 0, 1, 2, 3, 7, 4, 6, 6, 6, 5, 6, 12, 13])\n"
     ]
    }
   ],
   "source": [
    "arr1.remove(11)\n",
    "print(arr1)"
   ]
  },
  {
   "cell_type": "code",
   "execution_count": 19,
   "id": "1e244c37",
   "metadata": {},
   "outputs": [
    {
     "name": "stdout",
     "output_type": "stream",
     "text": [
      "array('i', [8, 9, 10, 1, 0, 0, 1, 2, 3, 7, 4, 6, 6, 6, 5, 6, 12])\n"
     ]
    }
   ],
   "source": [
    "arr1.pop()\n",
    "print(arr1)"
   ]
  },
  {
   "cell_type": "code",
   "execution_count": 20,
   "id": "27f37015",
   "metadata": {},
   "outputs": [
    {
     "data": {
      "text/plain": [
       "8"
      ]
     },
     "execution_count": 20,
     "metadata": {},
     "output_type": "execute_result"
    }
   ],
   "source": [
    "arr1.pop(0)"
   ]
  },
  {
   "cell_type": "code",
   "execution_count": 21,
   "id": "46827e4a",
   "metadata": {},
   "outputs": [
    {
     "name": "stdout",
     "output_type": "stream",
     "text": [
      "array('i', [9, 10, 1, 0, 0, 1, 2, 3, 7, 4, 6, 6, 6, 5, 6, 12])\n"
     ]
    }
   ],
   "source": [
    "print(arr1)"
   ]
  },
  {
   "cell_type": "code",
   "execution_count": 22,
   "id": "6716526e",
   "metadata": {},
   "outputs": [
    {
     "name": "stdout",
     "output_type": "stream",
     "text": [
      "1\n"
     ]
    }
   ],
   "source": [
    "print(arr1.index(10))"
   ]
  },
  {
   "cell_type": "code",
   "execution_count": 23,
   "id": "9c899b84",
   "metadata": {},
   "outputs": [
    {
     "name": "stdout",
     "output_type": "stream",
     "text": [
      "(2821276419776, 16)\n"
     ]
    }
   ],
   "source": [
    "print(arr1.buffer_info())"
   ]
  },
  {
   "cell_type": "code",
   "execution_count": 24,
   "id": "380e0cab",
   "metadata": {},
   "outputs": [
    {
     "name": "stdout",
     "output_type": "stream",
     "text": [
      "2\n"
     ]
    }
   ],
   "source": [
    "print(arr1.count(0))"
   ]
  },
  {
   "cell_type": "code",
   "execution_count": 25,
   "id": "7322c03e",
   "metadata": {},
   "outputs": [
    {
     "name": "stdout",
     "output_type": "stream",
     "text": [
      "b'\\t\\x00\\x00\\x00\\n\\x00\\x00\\x00\\x01\\x00\\x00\\x00\\x00\\x00\\x00\\x00\\x00\\x00\\x00\\x00\\x01\\x00\\x00\\x00\\x02\\x00\\x00\\x00\\x03\\x00\\x00\\x00\\x07\\x00\\x00\\x00\\x04\\x00\\x00\\x00\\x06\\x00\\x00\\x00\\x06\\x00\\x00\\x00\\x06\\x00\\x00\\x00\\x05\\x00\\x00\\x00\\x06\\x00\\x00\\x00\\x0c\\x00\\x00\\x00'\n"
     ]
    }
   ],
   "source": [
    "arr1_string = arr1.tostring()\n",
    "print(arr1_string)"
   ]
  },
  {
   "cell_type": "code",
   "execution_count": 26,
   "id": "5efded2c",
   "metadata": {},
   "outputs": [
    {
     "name": "stdout",
     "output_type": "stream",
     "text": [
      "array('i', [9, 10, 1, 0, 0, 1, 2, 3, 7, 4, 6, 6, 6, 5, 6, 12])\n"
     ]
    }
   ],
   "source": [
    "ints = array('i')\n",
    "ints.fromstring(arr1_string)\n",
    "print(ints)"
   ]
  },
  {
   "cell_type": "code",
   "execution_count": 27,
   "id": "ca588019",
   "metadata": {},
   "outputs": [
    {
     "name": "stdout",
     "output_type": "stream",
     "text": [
      "array('i', [1, 0, 0])\n"
     ]
    }
   ],
   "source": [
    "print(arr1[2:5])"
   ]
  },
  {
   "cell_type": "code",
   "execution_count": 28,
   "id": "b034a590",
   "metadata": {},
   "outputs": [
    {
     "name": "stdout",
     "output_type": "stream",
     "text": [
      "array('i', [9, 10, 1, 0, 0, 1, 2, 3, 7, 4, 6, 6, 6, 5, 6])\n"
     ]
    }
   ],
   "source": [
    "print(arr1[:-1])"
   ]
  },
  {
   "cell_type": "code",
   "execution_count": null,
   "id": "83ec6890",
   "metadata": {},
   "outputs": [],
   "source": []
  }
 ],
 "metadata": {
  "kernelspec": {
   "display_name": "Python 3",
   "language": "python",
   "name": "python3"
  },
  "language_info": {
   "codemirror_mode": {
    "name": "ipython",
    "version": 3
   },
   "file_extension": ".py",
   "mimetype": "text/x-python",
   "name": "python",
   "nbconvert_exporter": "python",
   "pygments_lexer": "ipython3",
   "version": "3.7.6"
  }
 },
 "nbformat": 4,
 "nbformat_minor": 5
}
