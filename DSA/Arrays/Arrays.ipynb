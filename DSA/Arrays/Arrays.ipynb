{
 "cells": [
  {
   "cell_type": "markdown",
   "id": "3f74b686",
   "metadata": {},
   "source": [
    "# ARRAYS IN PYTHON"
   ]
  },
  {
   "cell_type": "markdown",
   "id": "f478c529",
   "metadata": {},
   "source": [
    "Arrays are defined as the collection of similar type of data items stored at contiguous memory locations."
   ]
  },
  {
   "cell_type": "markdown",
   "id": "2686a36c",
   "metadata": {},
   "source": [
    "ADVANTAGES OF ARRAYS\n",
    "\n",
    "1.    It represents multiple data items  of the same type using a single name.\n",
    "2.   Arrays allocate memory in contiguous memory locations for all its elements.\n",
    "3.   Using arrays other data structure like trees, graphs, stacks, queues can be implemented."
   ]
  },
  {
   "cell_type": "markdown",
   "id": "d130faee",
   "metadata": {},
   "source": [
    "DISADVANTAGES OF ARRAYS\n",
    "\n",
    "1.  The number of elements to be stored in an array should be known in advance.\n",
    "2.  An array is a static structure (which means the array is of fixed size). Once declared the size of the array cannot be modified. \n",
    "3.  Insertion and deletion are quite difficult in an array as the elements are stored in consecutive memory locations.\n",
    "4.  Allocating more memory than the requirement leads to wastage of memory space and less allocation of memory also leads to a problem."
   ]
  },
  {
   "cell_type": "markdown",
   "id": "d290a3be",
   "metadata": {},
   "source": [
    "APPLICATION OF ARRAYS\n",
    "\n",
    "1.   It can be used for sorting elements.\n",
    "2.  Arrays can be used in CPU scheduling."
   ]
  },
  {
   "cell_type": "code",
   "execution_count": 3,
   "id": "56f92ca1",
   "metadata": {},
   "outputs": [],
   "source": [
    "from array import *"
   ]
  },
  {
   "cell_type": "code",
   "execution_count": 4,
   "id": "4841ec8f",
   "metadata": {},
   "outputs": [
    {
     "name": "stdout",
     "output_type": "stream",
     "text": [
      "array('i', [1, 2, 3, 4, 5, 6, 7, 8, 9, 10])\n"
     ]
    }
   ],
   "source": [
    "#creating an array\n",
    "\n",
    "arr1 = array('i', [1, 2, 3, 4, 5, 6, 7, 8, 9, 10])\n",
    "print(arr1)"
   ]
  },
  {
   "cell_type": "markdown",
   "id": "7b328954",
   "metadata": {},
   "source": [
    "Operations on Array \n",
    "\n",
    "1. array(data type, value list):-\n",
    "                            This function is used to create an array with data type and value list specified in its arguments.\n",
    "2. append():- \n",
    "                            This function is used to add the value mentioned in its arguments at the end of the array.\n",
    "3. insert(i,x) :- \n",
    "                             This function is used to add the value(x) at the ith position specified in its argument.\n",
    "4. pop():- \n",
    "                             This function removes the element at the position mentioned in its argument and returns it.\n",
    "5. remove():- \n",
    "                            This function is used to remove the first occurrence of the value mentioned in its arguments.\n",
    "6. index() :-\n",
    "                            This function returns the index of the first occurrence of value mentioned in arguments.\n",
    "7. reverse() :- \n",
    "                            This function reverses the array.\n"
   ]
  },
  {
   "cell_type": "markdown",
   "id": "142da997",
   "metadata": {},
   "source": [
    "SOME MORE IMPORTANT METHODS RELATED TO ARRAY\n",
    "\n",
    "1. typecode :- \n",
    "                            This function returns the data type by which array is initialised.\n",
    "\n",
    "2. itemsize :- \n",
    "                             This function returns size in bytes of a single array element.\n",
    "\n",
    "3. buffer_info() :-\n",
    "                             Returns a tuple representing the address in which array is stored and number of elements in it.\n",
    "                             \n",
    "4. count() :- \n",
    "                            This function counts the number of occurrences of argument mentioned in array.\n",
    "\n",
    "5. extend(arr) :- \n",
    "                            This function appends a whole array mentioned in its arguments to the specified array.\n",
    "                            \n",
    "6. fromlist(list) :-\n",
    "                             This function is used to append a list mentioned in its argument to end of array.\n",
    "\n",
    "7. tolist() :-\n",
    "                             This function is used to transform an array into a list."
   ]
  },
  {
   "cell_type": "code",
   "execution_count": 9,
   "id": "b22225a4",
   "metadata": {},
   "outputs": [
    {
     "name": "stdout",
     "output_type": "stream",
     "text": [
      "The datatype of array is : \n",
      "i\n",
      "The itemsize of array is : \n",
      "4\n",
      "The buffer info. of array is : \n",
      "(1915771933584, 6)\n",
      "The occurrences of 1 in array is : \n",
      "2\n",
      "The modified array is : \n",
      "1\n",
      "2\n",
      "3\n",
      "1\n",
      "2\n",
      "5\n",
      "1\n",
      "2\n",
      "3\n",
      "The new created array is :  1 2 3 \r\n",
      "The appended array is : 1 2 3 1 \r\n",
      "The array after insertion is : 1 2 5 3 1 The new created array is : 1 2 5 3 1 \r\n",
      "The popped element is : 3\n",
      "The array after popping is : 1 2 5 3 \r\n",
      "The array after removing is : 1 2 5 The new created array is : 1 2 5 3 1 2 \r\n",
      "The index of 1st occurrence of 2 is : 0\n",
      "The array after reversing is : 4 5 2 1 3 5 "
     ]
    }
   ],
   "source": [
    "arr=array('i',[1, 2, 3, 1, 2, 5])\n",
    "\n",
    "print (\"The datatype of array is : \")\n",
    "print (arr.typecode)\n",
    "\n",
    "print (\"The itemsize of array is : \")\n",
    "print (arr.itemsize)\n",
    "\n",
    "print (\"The buffer info. of array is : \")\n",
    "print (arr.buffer_info())\n",
    "\n",
    "arr2 = array('i',[1, 2, 3, 1, 2, 5])\n",
    "\n",
    "arr3 = array('i',[1, 2, 3])\n",
    "\n",
    "print (\"The occurrences of 1 in array is : \")\n",
    "print (arr2.count(1))\n",
    "\n",
    "\n",
    "arr2.extend(arr3)\n",
    "\n",
    "print (\"The modified array is : \")\n",
    "for i in range (0,9):\n",
    "    print (arr2[i])\n",
    "\n",
    "\n",
    "print (\"The new created array is : \",end=\" \")\n",
    "for i in range (0, 3):\n",
    "    print (arr[i], end=\" \")\n",
    "\n",
    "print(\"\\r\")\n",
    "\n",
    "\n",
    "arr.append(4);\n",
    "\n",
    "\n",
    "print(\"The appended array is : \", end=\"\")\n",
    "for i in range (0, 4):\n",
    "    print (arr[i], end=\" \")\n",
    "\n",
    "\n",
    "arr.insert(2, 5)\n",
    "\n",
    "print(\"\\r\")\n",
    "\n",
    "\n",
    "print (\"The array after insertion is : \", end=\"\")\n",
    "for i in range (0, 5):\n",
    "    print (arr[i], end=\" \")\n",
    "\n",
    "\n",
    "print (\"The new created array is : \",end=\"\")\n",
    "for i in range (0,5):\n",
    "    print (arr[i],end=\" \")\n",
    "\n",
    "print (\"\\r\")\n",
    "\n",
    "\n",
    "print (\"The popped element is : \",end=\"\")\n",
    "print (arr2.pop(2));\n",
    "\n",
    "\n",
    "print (\"The array after popping is : \",end=\"\")\n",
    "for i in range (0,4):\n",
    "    print (arr[i],end=\" \")\n",
    "\n",
    "print(\"\\r\")\n",
    "\n",
    "\n",
    "arr2.remove(1)\n",
    "\n",
    "\n",
    "print (\"The array after removing is : \",end=\"\")\n",
    "for i in range (0,3):\n",
    "    print (arr[i],end=\" \")\n",
    "    \n",
    "\n",
    "print (\"The new created array is : \",end=\"\")\n",
    "for i in range (0,6):\n",
    "    print (arr[i],end=\" \")\n",
    "\n",
    "print (\"\\r\")\n",
    "\n",
    "\n",
    "print (\"The index of 1st occurrence of 2 is : \",end=\"\")\n",
    "print (arr2.index(2))\n",
    "\n",
    "\n",
    "arr.reverse()\n",
    "\n",
    "print (\"The array after reversing is : \",end=\"\")\n",
    "for i in range (0,6):\n",
    "    print (arr[i],end=\" \")\n",
    "\n"
   ]
  },
  {
   "cell_type": "code",
   "execution_count": null,
   "id": "b1e40076",
   "metadata": {},
   "outputs": [],
   "source": []
  }
 ],
 "metadata": {
  "kernelspec": {
   "display_name": "Python 3",
   "language": "python",
   "name": "python3"
  },
  "language_info": {
   "codemirror_mode": {
    "name": "ipython",
    "version": 3
   },
   "file_extension": ".py",
   "mimetype": "text/x-python",
   "name": "python",
   "nbconvert_exporter": "python",
   "pygments_lexer": "ipython3",
   "version": "3.7.6"
  }
 },
 "nbformat": 4,
 "nbformat_minor": 5
}
