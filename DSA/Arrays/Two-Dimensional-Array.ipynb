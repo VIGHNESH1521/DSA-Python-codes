{
 "cells": [
  {
   "cell_type": "code",
   "execution_count": 1,
   "id": "e26fcee0",
   "metadata": {},
   "outputs": [],
   "source": [
    "import numpy as np"
   ]
  },
  {
   "cell_type": "code",
   "execution_count": 2,
   "id": "d6210cd7",
   "metadata": {},
   "outputs": [
    {
     "name": "stdout",
     "output_type": "stream",
     "text": [
      "[[10 14 16 74]\n",
      " [45 86 72 44]\n",
      " [39 61 95  8]\n",
      " [54 33 84  3]]\n"
     ]
    }
   ],
   "source": [
    "twoDArray = np.array([[10,14,16,74], [45,86,72,44], [39,61,95,8], [54,33,84,3]])\n",
    "print(twoDArray)"
   ]
  },
  {
   "cell_type": "code",
   "execution_count": 3,
   "id": "85deb489",
   "metadata": {},
   "outputs": [
    {
     "name": "stdout",
     "output_type": "stream",
     "text": [
      "4\n"
     ]
    }
   ],
   "source": [
    "print(len(twoDArray))"
   ]
  },
  {
   "cell_type": "code",
   "execution_count": 5,
   "id": "d7a4bba6",
   "metadata": {},
   "outputs": [
    {
     "name": "stdout",
     "output_type": "stream",
     "text": [
      "[[10 14 16 74]\n",
      " [45 86 72 44]\n",
      " [39 61 95  8]\n",
      " [54 33 84  3]\n",
      " [ 1  2  3  4]]\n",
      "5\n",
      "4\n"
     ]
    }
   ],
   "source": [
    "newTwoDArray = np.append(twoDArray, [[1,2,3,4]], axis=0)\n",
    "print(newTwoDArray)\n",
    "print(len(newTwoDArray))\n",
    "print(len(newTwoDArray[0]))"
   ]
  },
  {
   "cell_type": "code",
   "execution_count": 9,
   "id": "17c47373",
   "metadata": {},
   "outputs": [],
   "source": [
    "#Accessing Element from a 2-D array\n",
    "\n",
    "def AccessElement(array, rowIndex, colIndex):\n",
    "    if rowIndex >= len(array) and colIndex >= len(array[0]):\n",
    "        print(\"Incorrect Index\")\n",
    "    else:\n",
    "        print(array[rowIndex][colIndex])"
   ]
  },
  {
   "cell_type": "code",
   "execution_count": 10,
   "id": "1958d7b3",
   "metadata": {},
   "outputs": [
    {
     "name": "stdout",
     "output_type": "stream",
     "text": [
      "95\n"
     ]
    }
   ],
   "source": [
    "AccessElement(twoDArray,2,2)"
   ]
  },
  {
   "cell_type": "code",
   "execution_count": 11,
   "id": "829d7971",
   "metadata": {},
   "outputs": [],
   "source": [
    "#Traversing 2-D array\n",
    "\n",
    "def TraverseArray(array):\n",
    "    for i in range(len(array)):\n",
    "        for j in range(len(array)):\n",
    "            print(array[i][j])"
   ]
  },
  {
   "cell_type": "code",
   "execution_count": 12,
   "id": "3c6107ae",
   "metadata": {},
   "outputs": [
    {
     "name": "stdout",
     "output_type": "stream",
     "text": [
      "10\n",
      "14\n",
      "16\n",
      "74\n",
      "45\n",
      "86\n",
      "72\n",
      "44\n",
      "39\n",
      "61\n",
      "95\n",
      "8\n",
      "54\n",
      "33\n",
      "84\n",
      "3\n"
     ]
    }
   ],
   "source": [
    "TraverseArray(twoDArray)"
   ]
  },
  {
   "cell_type": "code",
   "execution_count": 13,
   "id": "9029fff6",
   "metadata": {},
   "outputs": [
    {
     "name": "stdout",
     "output_type": "stream",
     "text": [
      "The element no found\n"
     ]
    }
   ],
   "source": [
    "def searchTDArray(array, value):\n",
    "    for i in range(len(array)):\n",
    "        for j in range(len(array[0])):\n",
    "            if array[i][j] == value:\n",
    "                return 'The value is located index '+str(i)+\" \"+str(j)\n",
    "    return 'The element no found'\n",
    "\n",
    "\n",
    "print(searchTDArray(twoDArray, 444))"
   ]
  },
  {
   "cell_type": "code",
   "execution_count": 14,
   "id": "54055503",
   "metadata": {},
   "outputs": [
    {
     "name": "stdout",
     "output_type": "stream",
     "text": [
      "[[10 16 74]\n",
      " [45 72 44]\n",
      " [39 95  8]\n",
      " [54 84  3]]\n"
     ]
    }
   ],
   "source": [
    "newTDArray = np.delete(twoDArray, 1, axis=1)\n",
    "print(newTDArray)"
   ]
  },
  {
   "cell_type": "code",
   "execution_count": null,
   "id": "fe655a98",
   "metadata": {},
   "outputs": [],
   "source": []
  }
 ],
 "metadata": {
  "kernelspec": {
   "display_name": "Python 3",
   "language": "python",
   "name": "python3"
  },
  "language_info": {
   "codemirror_mode": {
    "name": "ipython",
    "version": 3
   },
   "file_extension": ".py",
   "mimetype": "text/x-python",
   "name": "python",
   "nbconvert_exporter": "python",
   "pygments_lexer": "ipython3",
   "version": "3.7.6"
  }
 },
 "nbformat": 4,
 "nbformat_minor": 5
}
