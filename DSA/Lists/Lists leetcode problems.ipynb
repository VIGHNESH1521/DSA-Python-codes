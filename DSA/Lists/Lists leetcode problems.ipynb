{
 "cells": [
  {
   "cell_type": "markdown",
   "id": "870aa59a",
   "metadata": {
    "pycharm": {
     "name": "#%% md\n"
    }
   },
   "source": [
    "# LISTS INTERVIEW PROBLEMS"
   ]
  },
  {
   "cell_type": "code",
   "execution_count": 1,
   "id": "bb028e9a",
   "metadata": {
    "pycharm": {
     "name": "#%%\n"
    }
   },
   "outputs": [
    {
     "name": "stdout",
     "output_type": "stream",
     "text": [
      "73.0\n"
     ]
    }
   ],
   "source": [
    "# FIND THE MISSING NUMBER\n",
    "\n",
    "#METHOD     I\n",
    "\n",
    "mylist = [1, 2, 3, 4, 5, 6, 7, 8, 9, 10, 11, 12, 13, 14, 15, 16, 17, 18, 19, 20, 21, 22, 23, 24, 25,\n",
    "          26, 27, 28, 29, 30, 31, 32, 33, 34, 35, 36, 37, 38, 39, 40, 41, 42, 43, 44, 45, 46, 47, 48, 49, 50\n",
    "          , 51, 52, 53, 54, 55, 56, 57, 58, 59, 60, 61, 62, 63, 64, 65, 66, 67, 68, 69, 70, 71, 72, 74, 75,\n",
    "          76, 77, 78, 79, 80, 81, 82, 83, 84, 85, 86, 87, 88, 89, 90, 91, 92, 93, 94, 95, 96, 97, 98, 99, 100]\n",
    "\n",
    "\n",
    "def findMissing(list):\n",
    "    sum1 = sum(list)\n",
    "    sum2 = 100*101/2\n",
    "    print(sum2-sum1)\n",
    "    \n",
    "findMissing(mylist)"
   ]
  },
  {
   "cell_type": "code",
   "execution_count": 2,
   "id": "fe232c6a",
   "metadata": {
    "pycharm": {
     "name": "#%%\n"
    }
   },
   "outputs": [
    {
     "name": "stdout",
     "output_type": "stream",
     "text": [
      "7.0\n"
     ]
    }
   ],
   "source": [
    "#FIND THE MISSING NUMBER \n",
    "\n",
    "#METHOD    II\n",
    "\n",
    "def missingnumber(A):\n",
    "    n = len(A)\n",
    "    total = (n+1) * (n +2)/2\n",
    "    sum_of_list = sum(A)\n",
    "    return total - sum_of_list\n",
    "\n",
    "A = [1,2,3,4,5,6,8,9,10]\n",
    "print(missingnumber(A))"
   ]
  },
  {
   "cell_type": "code",
   "execution_count": 3,
   "id": "dffe1918",
   "metadata": {
    "pycharm": {
     "name": "#%%\n"
    }
   },
   "outputs": [
    {
     "name": "stdout",
     "output_type": "stream",
     "text": [
      "The pairs are : 1 , 6\n",
      "The pairs are : 2 , 5\n",
      "The pairs are : 3 , 4\n"
     ]
    }
   ],
   "source": [
    "#WRITE A PROGRAM TO FIND ALL PAIRS OF INTEGERS WHOSE SUM IS EQUAL TO A GIVEN NUMBER\n",
    "\n",
    "def PairsSum(nums,target):\n",
    "    for i in range(len(nums)):\n",
    "        for j in range(i + 1,len(nums)):\n",
    "            if nums[i] == nums[j]:\n",
    "                continue\n",
    "            elif nums[i] + nums[j] == target:\n",
    "                print(\"The pairs are : \"  + str(nums[i]) + \" , \" + str(nums[j]))\n",
    "                \n",
    "mylist = [1,2,3,4,5,6]\n",
    "PairsSum(mylist,7)"
   ]
  },
  {
   "cell_type": "code",
   "execution_count": 4,
   "id": "5af854b0",
   "metadata": {
    "pycharm": {
     "name": "#%%\n"
    }
   },
   "outputs": [
    {
     "name": "stdout",
     "output_type": "stream",
     "text": [
      "number found at index position 6\n"
     ]
    }
   ],
   "source": [
    "#HOW TO CHECK IF AN ARRAY CONTAINS A NUMBER \n",
    "\n",
    "def SearchNumber(list,number):\n",
    "    for i in range(len(my_list)):\n",
    "        if my_list[i] == number:\n",
    "            print(\"number found at index position \" + str(my_list[i]))\n",
    "            \n",
    "my_list = [0,1,2,3,4,5,6,7,8,9]\n",
    "SearchNumber(mylist,6)"
   ]
  },
  {
   "cell_type": "code",
   "execution_count": 5,
   "id": "ea571443",
   "metadata": {
    "pycharm": {
     "name": "#%%\n"
    }
   },
   "outputs": [
    {
     "name": "stdout",
     "output_type": "stream",
     "text": [
      "THE MAXIMUM PRODUCT IS : 3192\n",
      "THE PAIRS ARE : 56 & 57\n"
     ]
    }
   ],
   "source": [
    "#HOW TO FIND MAXIMUM PRODUCT OF TWO INTEGERS IN THE ARRAY WHERE ALL INTEGERS ARE POSITIVE\n",
    "\n",
    "import numpy as np\n",
    "\n",
    "def MaxProduct(array):\n",
    "    maxPro = 0\n",
    "    \n",
    "    for i in range(len(array)):\n",
    "        for j in range(i+1,len(array)):\n",
    "            if array[i] * array[j] > maxPro:\n",
    "                maxPro = array[i] * array[j] \n",
    "                pairs = str(array[i]) +\" & \"+ str(array[j])\n",
    "    print(\"THE MAXIMUM PRODUCT IS : \"+str(maxPro))\n",
    "    print(\"THE PAIRS ARE : \" + str(pairs))\n",
    "    \n",
    "\n",
    "myarray = np.array([1,20,30,44,5,56,57,8,9,10,31,12,13,14])\n",
    "MaxProduct(myarray)"
   ]
  },
  {
   "cell_type": "code",
   "execution_count": 6,
   "id": "8004012a",
   "metadata": {
    "pycharm": {
     "name": "#%%\n"
    }
   },
   "outputs": [
    {
     "name": "stdout",
     "output_type": "stream",
     "text": [
      "10\n",
      "False\n"
     ]
    }
   ],
   "source": [
    "#IMPLEMENT AN ALGORITHM TO DETERMINE IF A LIST HAS ALL UNIQUE CHARACTERS USING PYTHON LIST\n",
    "\n",
    "def isUnique(list):\n",
    "    a=[]\n",
    "    for i in list:\n",
    "        if i in a:\n",
    "            print(i)\n",
    "            return False\n",
    "        else:\n",
    "            a.append(i)\n",
    "    return True\n",
    "\n",
    "mylist = [1,20,30,44,5,56,47,89,10,31,10,27,67]\n",
    "print(isUnique(mylist))"
   ]
  },
  {
   "cell_type": "code",
   "execution_count": 7,
   "id": "665f36e9",
   "metadata": {
    "pycharm": {
     "name": "#%%\n"
    }
   },
   "outputs": [
    {
     "data": {
      "text/plain": [
       "True"
      ]
     },
     "execution_count": 7,
     "metadata": {},
     "output_type": "execute_result"
    }
   ],
   "source": [
    "#WRITE A FUNCTION TO CHECK WHETHER TWO GIVEN STRINGS ARE PERMUTATIONS OF EACH OTHER\n",
    "\n",
    "def permutation(list1, list2):\n",
    "    if len(list1) != len(list2):\n",
    "        return False\n",
    "    list1.sort()\n",
    "    list2.sort()\n",
    "    if list1 == list2:\n",
    "        return True\n",
    "    else:\n",
    "        return False\n",
    "    \n",
    "list_1 = ['a','b','c']\n",
    "list_2 = ['c','a','b']\n",
    "permutation(list_1,list_2)\n"
   ]
  },
  {
   "cell_type": "code",
   "execution_count": 8,
   "id": "cbad9653",
   "metadata": {
    "pycharm": {
     "name": "#%%\n"
    }
   },
   "outputs": [
    {
     "name": "stdout",
     "output_type": "stream",
     "text": [
      "[[1, 2, 3], [4, 5, 6], [7, 8, 9]]\n",
      "[[7, 4, 1], [8, 5, 2], [9, 6, 3]]\n"
     ]
    }
   ],
   "source": [
    "#WRITE A METHOD TO ROTATE THE MATRIX BY 90 DEGREE\n",
    "\n",
    "def rotate_matrix(matrix):\n",
    "    \n",
    "    '''rotates a matrix 90 degrees clockwise'''\n",
    "    \n",
    "    n = len(matrix)\n",
    "    for layer in range(n // 2):\n",
    "        first, last = layer, n - layer - 1\n",
    "        for i in range(first, last):\n",
    "            # save top\n",
    "            top = matrix[layer][i]\n",
    "\n",
    "            # left -> top\n",
    "            matrix[layer][i] = matrix[-i - 1][layer]\n",
    "\n",
    "            # bottom -> left\n",
    "            matrix[-i - 1][layer] = matrix[-layer - 1][-i - 1]\n",
    "\n",
    "            # right -> bottom\n",
    "            matrix[-layer - 1][-i - 1] = matrix[i][- layer - 1]\n",
    "\n",
    "            # top -> right\n",
    "            matrix[i][- layer - 1] = top\n",
    "    return matrix\n",
    "\n",
    "matrix = [[1,2,3],[4,5,6],[7,8,9]]\n",
    "print(matrix)\n",
    "print(rotate_matrix(matrix))"
   ]
  },
  {
   "cell_type": "code",
   "execution_count": null,
   "id": "68dfa91f",
   "metadata": {
    "pycharm": {
     "name": "#%%\n"
    }
   },
   "outputs": [],
   "source": []
  }
 ],
 "metadata": {
  "kernelspec": {
   "display_name": "Python 3",
   "language": "python",
   "name": "python3"
  },
  "language_info": {
   "codemirror_mode": {
    "name": "ipython",
    "version": 3
   },
   "file_extension": ".py",
   "mimetype": "text/x-python",
   "name": "python",
   "nbconvert_exporter": "python",
   "pygments_lexer": "ipython3",
   "version": "3.7.6"
  }
 },
 "nbformat": 4,
 "nbformat_minor": 5
}