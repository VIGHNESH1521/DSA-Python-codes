{
 "cells": [
  {
   "cell_type": "code",
   "execution_count": 2,
   "id": "d8a7cfbb",
   "metadata": {
    "pycharm": {
     "name": "#%%\n"
    }
   },
   "outputs": [
    {
     "name": "stdout",
     "output_type": "stream",
     "text": [
      "[1, 2, 3, 4, 5, 6]\n",
      "[1, 2, 3, 44, 5, 6]\n",
      "[1, 2, 3, 44, 55, 5, 6]\n",
      "[1, 2, 3, 44, 55, 5, 6, 7]\n",
      "[1, 2, 3, 44, 55, 5, 6, 7, 11, 12, 13]\n"
     ]
    }
   ],
   "source": [
    "#update/insert - list\n",
    "\n",
    "mylist = [1,2,3,4,5,6]\n",
    "print(mylist)\n",
    "mylist[3] = 44\n",
    "print(mylist)\n",
    "mylist.insert(4,55)\n",
    "print(mylist)\n",
    "mylist.append(7)\n",
    "print(mylist)\n",
    "\n",
    "newlist = [11,12,13]\n",
    "mylist.extend(newlist)\n",
    "print(mylist)"
   ]
  },
  {
   "cell_type": "code",
   "execution_count": 9,
   "id": "bc4f3d86",
   "metadata": {
    "pycharm": {
     "name": "#%%\n"
    }
   },
   "outputs": [
    {
     "name": "stdout",
     "output_type": "stream",
     "text": [
      "3\n"
     ]
    }
   ],
   "source": [
    "#  Searching for an element in the List\n",
    "myList =  [10,20,30,40,50,60,70,80,90]\n",
    "\n",
    "def searchinList(list, value):\n",
    "    for i in list:\n",
    "        if i == value:\n",
    "            return list.index(value)\n",
    "    return 'The value does not exist in the list'\n",
    "\n",
    "print(searchinList(myList, 40))"
   ]
  },
  {
   "cell_type": "code",
   "execution_count": 10,
   "id": "f243eabd",
   "metadata": {
    "pycharm": {
     "name": "#%%\n"
    }
   },
   "outputs": [
    {
     "name": "stdout",
     "output_type": "stream",
     "text": [
      "Enter a number: 4\n",
      "Enter a number: 4\n",
      "Enter a number: 6\n",
      "Enter a number: 7\n",
      "Enter a number: 8\n",
      "Enter a number: done\n",
      "Average: 5.8\n"
     ]
    }
   ],
   "source": [
    "#program to find the average of n numbers\n",
    "\n",
    "total = 0 \n",
    "count = 0\n",
    "while (True):\n",
    "    inp = input('Enter a number: ') \n",
    "    if inp == 'done': break\n",
    "    value = float(inp)\n",
    "    total = total + value\n",
    "    count = count + 1 \n",
    "    average = total / count\n",
    "\n",
    "print('Average:', average)\n"
   ]
  },
  {
   "cell_type": "code",
   "execution_count": 11,
   "id": "bd0c464c",
   "metadata": {
    "pycharm": {
     "name": "#%%\n"
    }
   },
   "outputs": [
    {
     "name": "stdout",
     "output_type": "stream",
     "text": [
      "Enter a number: 2\n",
      "Enter a number: 3\n",
      "Enter a number: 4\n",
      "Enter a number: 5\n",
      "Enter a number: 6\n",
      "Enter a number: done\n",
      "Average: 4.0\n"
     ]
    }
   ],
   "source": [
    "#program to find the average of n numbers using methods of list\n",
    "\n",
    "numlist = list() \n",
    "while (True):\n",
    "    inp = input('Enter a number: ') \n",
    "    if inp == 'done': break\n",
    "    value = float(inp)\n",
    "    numlist.append(value)\n",
    "\n",
    "average = sum(numlist) / len(numlist) \n",
    "print('Average:', average)"
   ]
  },
  {
   "cell_type": "code",
   "execution_count": 13,
   "id": "4f55d667",
   "metadata": {
    "pycharm": {
     "name": "#%%\n"
    }
   },
   "outputs": [
    {
     "name": "stdout",
     "output_type": "stream",
     "text": [
      "2 3 4 5 6 6 "
     ]
    }
   ],
   "source": [
    "arr = [1, 2, 3, 4, 5, 6]\n",
    "for i in range(1, 6):\n",
    "    arr[i - 1] = arr[i]\n",
    "for i in range(0, 6): \n",
    "    print(arr[i], end = \" \")"
   ]
  },
  {
   "cell_type": "code",
   "execution_count": 14,
   "id": "d998518f",
   "metadata": {
    "pycharm": {
     "name": "#%%\n"
    }
   },
   "outputs": [
    {
     "name": "stdout",
     "output_type": "stream",
     "text": [
      "4\n",
      "7\n",
      "11\n",
      "15\n"
     ]
    }
   ],
   "source": [
    "arr = [[1, 2, 3, 4],\n",
    "       [4, 5, 6, 7],\n",
    "       [8, 9, 10, 11],\n",
    "       [12, 13, 14, 15]]\n",
    "for i in range(0, 4):\n",
    "    print(arr[i].pop())"
   ]
  },
  {
   "cell_type": "code",
   "execution_count": 15,
   "id": "9131d6aa",
   "metadata": {
    "pycharm": {
     "name": "#%%\n"
    }
   },
   "outputs": [
    {
     "name": "stdout",
     "output_type": "stream",
     "text": [
      "[4, 3, 2]\n"
     ]
    }
   ],
   "source": [
    "a=[1,2,3,4,5]\n",
    "print(a[3:0:-1])"
   ]
  },
  {
   "cell_type": "code",
   "execution_count": null,
   "id": "8322fdfa",
   "metadata": {
    "pycharm": {
     "name": "#%%\n"
    }
   },
   "outputs": [],
   "source": []
  },
  {
   "cell_type": "code",
   "execution_count": null,
   "id": "652b115e",
   "metadata": {
    "pycharm": {
     "name": "#%%\n"
    }
   },
   "outputs": [],
   "source": []
  }
 ],
 "metadata": {
  "kernelspec": {
   "display_name": "Python 3",
   "language": "python",
   "name": "python3"
  },
  "language_info": {
   "codemirror_mode": {
    "name": "ipython",
    "version": 3
   },
   "file_extension": ".py",
   "mimetype": "text/x-python",
   "name": "python",
   "nbconvert_exporter": "python",
   "pygments_lexer": "ipython3",
   "version": "3.7.6"
  }
 },
 "nbformat": 4,
 "nbformat_minor": 5
}