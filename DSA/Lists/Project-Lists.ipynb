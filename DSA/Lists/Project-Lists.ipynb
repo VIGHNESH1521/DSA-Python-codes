{
 "cells": [
  {
   "cell_type": "markdown",
   "id": "d5c872a7",
   "metadata": {},
   "source": [
    "# Program to analyze weather data"
   ]
  },
  {
   "cell_type": "markdown",
   "id": "b2ea12bb",
   "metadata": {},
   "source": [
    "Please do the following:\n",
    "\n",
    "(a) Ask the user to enter the daily high temperature of 5 days. Store the termeratures in a list.\n",
    "\n",
    "(b) Display the 5 temperatures.\n",
    "\n",
    "(c) Find and display the lowest and highest temperatures.\n",
    "\n",
    "(d) Calculate and display the average temperature.\n",
    "\n",
    "(e) Count and display the number of days that are hotter than the average temperature."
   ]
  },
  {
   "cell_type": "code",
   "execution_count": 1,
   "id": "ba088ea6",
   "metadata": {},
   "outputs": [
    {
     "name": "stdout",
     "output_type": "stream",
     "text": [
      "How many day's temperature? : 5\n",
      "\n",
      "Day 1's high temperature : 23\n",
      "\n",
      "Day 2's high temperature : 24\n",
      "\n",
      "Day 3's high temperature : 25\n",
      "\n",
      "Day 4's high temperature : 26\n",
      "\n",
      "Day 5's high temperature : 27\n",
      "\n",
      "Average = 25.0\n",
      "\n",
      "2 day(s) above temperature\n",
      "\n",
      "Maximum temperature is : 27\n",
      "\n",
      "Minimum temperature is : 23\n"
     ]
    }
   ],
   "source": [
    "numDays = int(input(\"How many day's temperature? : \"))\n",
    "print()\n",
    "total = 0\n",
    "temp = []\n",
    "\n",
    "for i in range(numDays):\n",
    "    nextDay = int(input(\"Day \" + str(i + 1) + \"'s high temperature : \"))\n",
    "    temp.append(nextDay)\n",
    "    total += temp[i]    \n",
    "    print()\n",
    "    \n",
    "avg = total/numDays\n",
    "\n",
    "print(\"Average = \" + str(avg))\n",
    "print()\n",
    "\n",
    "above = 0\n",
    "for i in temp:\n",
    "    if i > avg:\n",
    "        above += 1\n",
    "\n",
    "print(str(above) + \" day(s) above temperature\")\n",
    "print()\n",
    "\n",
    "print(\"Maximum temperature is : \" + str(max(temp)))\n",
    "print()\n",
    "print(\"Minimum temperature is : \" + str(min(temp)))\n"
   ]
  },
  {
   "cell_type": "code",
   "execution_count": null,
   "id": "5746953e",
   "metadata": {},
   "outputs": [],
   "source": []
  },
  {
   "cell_type": "code",
   "execution_count": null,
   "id": "848c2520",
   "metadata": {},
   "outputs": [],
   "source": []
  }
 ],
 "metadata": {
  "kernelspec": {
   "display_name": "Python 3",
   "language": "python",
   "name": "python3"
  },
  "language_info": {
   "codemirror_mode": {
    "name": "ipython",
    "version": 3
   },
   "file_extension": ".py",
   "mimetype": "text/x-python",
   "name": "python",
   "nbconvert_exporter": "python",
   "pygments_lexer": "ipython3",
   "version": "3.7.6"
  }
 },
 "nbformat": 4,
 "nbformat_minor": 5
}
